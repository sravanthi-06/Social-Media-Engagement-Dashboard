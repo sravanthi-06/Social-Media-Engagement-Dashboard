# 📊 Social Media Engagement Dashboard
# Developed by: [Your Name]
# Internship: Codec Technologies - Data Analytics

# Import Libraries
import pandas as pd
import matplotlib.pyplot as plt
import seaborn as sns

# ------------------------------
# Step 1: Load Dataset
# ------------------------------
data = pd.read_csv('engagement_data.csv')
print("Dataset Loaded Successfully")
print(data.head())

# ------------------------------
# Step 2: Basic Info & Cleaning
# ------------------------------
print("\nDataset Information:")
print(data.info())
print("\nMissing Values:")
print(data.isnull().sum())

# Fill missing values if any
data.fillna(0, inplace=True)

# ------------------------------
# Step 3: Calculate Engagement Rate
# ------------------------------
data['Engagement_Rate'] = (data['Likes'] + data['Comments'] + data['Shares']) / data['Impressions']
print("\n Engagement Rate Calculated Successfully!")
print(data[['Platform', 'Post_Type', 'Engagement_Rate']].head())

# ------------------------------
# Step 4: Visualization - Engagement Rate by Platform
# ------------------------------
plt.figure(figsize=(10,6))
sns.barplot(x='Platform', y='Engagement_Rate', data=data, ci=None)
plt.title('Average Engagement Rate by Platform')
plt.xlabel('Platform')
plt.ylabel('Engagement Rate')
plt.show()

# ------------------------------
# Step 5: Visualization - Post Type Performance
# ------------------------------
plt.figure(figsize=(10,6))
sns.boxplot(x='Post_Type', y='Engagement_Rate', data=data)
plt.title('Engagement Rate by Post Type')
plt.xlabel('Post Type')
plt.ylabel('Engagement Rate')
plt.show()

# ------------------------------
# Step 6: Visualization - Likes, Comments, Shares
# ------------------------------
plt.figure(figsize=(10,6))
data.groupby('Platform')[['Likes', 'Comments', 'Shares']].mean().plot(kind='bar')
plt.title('Average Likes, Comments, and Shares per Platform')
plt.xlabel('Platform')
plt.ylabel('Average Count')
plt.show()

# ------------------------------
# Step 7: Insights
# ------------------------------
print("\n Insights Example:")
print("1️⃣ Instagram has the highest overall engagement rate.")
print("2️⃣ Video/Reel posts perform better than static image posts.")
print("3️⃣ Posting between 6 PM - 9 PM increases engagement significantly.")
